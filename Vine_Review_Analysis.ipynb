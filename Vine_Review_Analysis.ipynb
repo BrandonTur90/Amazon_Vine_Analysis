{
  "nbformat": 4,
  "nbformat_minor": 0,
  "metadata": {
    "colab": {
      "name": "Vine_Review_Analysis",
      "provenance": []
    },
    "kernelspec": {
      "name": "python3",
      "display_name": "Python 3"
    },
    "language_info": {
      "name": "python"
    }
  },
  "cells": [
    {
      "cell_type": "code",
      "metadata": {
        "colab": {
          "base_uri": "https://localhost:8080/"
        },
        "id": "Gc57uDiPJP-M",
        "outputId": "4ba0c634-fcf8-40f5-95d0-8fda9b6632b7"
      },
      "source": [
        "import os\n",
        "# Find the latest version of spark 3.0 from http://www.apache.org/dist/spark/ and enter as the spark version\n",
        "# For example:\n",
        "# spark_version = 'spark-3.0.3'\n",
        "spark_version = 'spark-3.0.3'\n",
        "os.environ['SPARK_VERSION']=spark_version\n",
        "\n",
        "# Install Spark and Java\n",
        "!apt-get update\n",
        "!apt-get install openjdk-11-jdk-headless -qq > /dev/null\n",
        "!wget -q http://www.apache.org/dist/spark/$SPARK_VERSION/$SPARK_VERSION-bin-hadoop2.7.tgz\n",
        "!tar xf $SPARK_VERSION-bin-hadoop2.7.tgz\n",
        "!pip install -q findspark\n",
        "\n",
        "# Set Environment Variables\n",
        "import os\n",
        "os.environ[\"JAVA_HOME\"] = \"/usr/lib/jvm/java-11-openjdk-amd64\"\n",
        "os.environ[\"SPARK_HOME\"] = f\"/content/{spark_version}-bin-hadoop2.7\"\n",
        "\n",
        "# Start a SparkSession\n",
        "import findspark\n",
        "findspark.init()"
      ],
      "execution_count": 1,
      "outputs": [
        {
          "output_type": "stream",
          "name": "stdout",
          "text": [
            "Get:1 https://cloud.r-project.org/bin/linux/ubuntu bionic-cran40/ InRelease [3,626 B]\n",
            "Ign:2 https://developer.download.nvidia.com/compute/cuda/repos/ubuntu1804/x86_64  InRelease\n",
            "Get:3 http://security.ubuntu.com/ubuntu bionic-security InRelease [88.7 kB]\n",
            "Get:4 http://ppa.launchpad.net/c2d4u.team/c2d4u4.0+/ubuntu bionic InRelease [15.9 kB]\n",
            "Ign:5 https://developer.download.nvidia.com/compute/machine-learning/repos/ubuntu1804/x86_64  InRelease\n",
            "Get:6 https://developer.download.nvidia.com/compute/cuda/repos/ubuntu1804/x86_64  Release [696 B]\n",
            "Hit:7 https://developer.download.nvidia.com/compute/machine-learning/repos/ubuntu1804/x86_64  Release\n",
            "Get:8 https://developer.download.nvidia.com/compute/cuda/repos/ubuntu1804/x86_64  Release.gpg [836 B]\n",
            "Hit:9 http://archive.ubuntu.com/ubuntu bionic InRelease\n",
            "Get:10 http://archive.ubuntu.com/ubuntu bionic-updates InRelease [88.7 kB]\n",
            "Hit:11 http://ppa.launchpad.net/cran/libgit2/ubuntu bionic InRelease\n",
            "Hit:12 http://ppa.launchpad.net/deadsnakes/ppa/ubuntu bionic InRelease\n",
            "Get:13 http://archive.ubuntu.com/ubuntu bionic-backports InRelease [74.6 kB]\n",
            "Get:14 http://ppa.launchpad.net/graphics-drivers/ppa/ubuntu bionic InRelease [21.3 kB]\n",
            "Get:16 https://developer.download.nvidia.com/compute/cuda/repos/ubuntu1804/x86_64  Packages [829 kB]\n",
            "Get:17 http://ppa.launchpad.net/c2d4u.team/c2d4u4.0+/ubuntu bionic/main Sources [1,817 kB]\n",
            "Get:18 http://security.ubuntu.com/ubuntu bionic-security/universe amd64 Packages [1,444 kB]\n",
            "Get:19 http://security.ubuntu.com/ubuntu bionic-security/main amd64 Packages [2,461 kB]\n",
            "Get:20 http://ppa.launchpad.net/c2d4u.team/c2d4u4.0+/ubuntu bionic/main amd64 Packages [932 kB]\n",
            "Get:21 http://security.ubuntu.com/ubuntu bionic-security/restricted amd64 Packages [691 kB]\n",
            "Get:22 http://archive.ubuntu.com/ubuntu bionic-updates/restricted amd64 Packages [725 kB]\n",
            "Get:23 http://archive.ubuntu.com/ubuntu bionic-updates/universe amd64 Packages [2,225 kB]\n",
            "Get:24 http://archive.ubuntu.com/ubuntu bionic-updates/main amd64 Packages [2,898 kB]\n",
            "Get:25 http://ppa.launchpad.net/graphics-drivers/ppa/ubuntu bionic/main amd64 Packages [44.7 kB]\n",
            "Fetched 14.4 MB in 5s (2,808 kB/s)\n",
            "Reading package lists... Done\n"
          ]
        }
      ]
    },
    {
      "cell_type": "code",
      "metadata": {
        "colab": {
          "base_uri": "https://localhost:8080/"
        },
        "id": "X2-189sqJZiw",
        "outputId": "bd4ffbba-6c39-4f62-beeb-dfe412997ff0"
      },
      "source": [
        "# Download the Postgres driver that will allow Spark to interact with Postgres.\n",
        "!wget https://jdbc.postgresql.org/download/postgresql-42.2.16.jar"
      ],
      "execution_count": 2,
      "outputs": [
        {
          "output_type": "stream",
          "name": "stdout",
          "text": [
            "--2021-12-06 05:10:10--  https://jdbc.postgresql.org/download/postgresql-42.2.16.jar\n",
            "Resolving jdbc.postgresql.org (jdbc.postgresql.org)... 72.32.157.228, 2001:4800:3e1:1::228\n",
            "Connecting to jdbc.postgresql.org (jdbc.postgresql.org)|72.32.157.228|:443... connected.\n",
            "HTTP request sent, awaiting response... 200 OK\n",
            "Length: 1002883 (979K) [application/java-archive]\n",
            "Saving to: ‘postgresql-42.2.16.jar’\n",
            "\n",
            "postgresql-42.2.16. 100%[===================>] 979.38K  --.-KB/s    in 0.1s    \n",
            "\n",
            "2021-12-06 05:10:11 (6.56 MB/s) - ‘postgresql-42.2.16.jar’ saved [1002883/1002883]\n",
            "\n"
          ]
        }
      ]
    },
    {
      "cell_type": "code",
      "metadata": {
        "id": "iWpz29o7JbLo"
      },
      "source": [
        "from pyspark.sql import SparkSession\n",
        "spark = SparkSession.builder.appName(\"M16-Amazon-Challenge\").config(\"spark.driver.extraClassPath\",\"/content/postgresql-42.2.16.jar\").getOrCreate()"
      ],
      "execution_count": 3,
      "outputs": []
    },
    {
      "cell_type": "code",
      "metadata": {
        "colab": {
          "base_uri": "https://localhost:8080/"
        },
        "id": "12Khot_wJbiI",
        "outputId": "fae3f1df-f852-4b44-f7ad-c3ce22f6c24e"
      },
      "source": [
        "from pyspark import SparkFiles\n",
        "url = \"https://s3.amazonaws.com/amazon-reviews-pds/tsv/amazon_reviews_us_Watches_v1_00.tsv.gz\"\n",
        "spark.sparkContext.addFile(url)\n",
        "df = spark.read.option(\"encoding\", \"UTF-8\").csv(SparkFiles.get(\"\"), sep=\"\\t\", header=True, inferSchema=True)\n",
        "df.show()"
      ],
      "execution_count": 4,
      "outputs": [
        {
          "output_type": "stream",
          "name": "stdout",
          "text": [
            "+-----------+-----------+--------------+----------+--------------+--------------------+----------------+-----------+-------------+-----------+----+-----------------+--------------------+--------------------+-----------+\n",
            "|marketplace|customer_id|     review_id|product_id|product_parent|       product_title|product_category|star_rating|helpful_votes|total_votes|vine|verified_purchase|     review_headline|         review_body|review_date|\n",
            "+-----------+-----------+--------------+----------+--------------+--------------------+----------------+-----------+-------------+-----------+----+-----------------+--------------------+--------------------+-----------+\n",
            "|         US|    3653882|R3O9SGZBVQBV76|B00FALQ1ZC|     937001370|Invicta Women's 1...|         Watches|          5|            0|          0|   N|                Y|          Five Stars|Absolutely love t...| 2015-08-31|\n",
            "|         US|   14661224| RKH8BNC3L5DLF|B00D3RGO20|     484010722|Kenneth Cole New ...|         Watches|          5|            0|          0|   N|                Y|I love thiswatch ...|I love this watch...| 2015-08-31|\n",
            "|         US|   27324930|R2HLE8WKZSU3NL|B00DKYC7TK|     361166390|Ritche 22mm Black...|         Watches|          2|            1|          1|   N|                Y|           Two Stars|           Scratches| 2015-08-31|\n",
            "|         US|    7211452|R31U3UH5AZ42LL|B000EQS1JW|     958035625|Citizen Men's BM8...|         Watches|          5|            0|          0|   N|                Y|          Five Stars|It works well on ...| 2015-08-31|\n",
            "|         US|   12733322|R2SV659OUJ945Y|B00A6GFD7S|     765328221|Orient ER27009B M...|         Watches|          4|            0|          0|   N|                Y|Beautiful face, b...|Beautiful watch f...| 2015-08-31|\n",
            "|         US|    6576411| RA51CP8TR5A2L|B00EYSOSE8|     230493695|Casio Men's GW-94...|         Watches|          5|            0|          0|   N|                Y|       No complaints|i love this watch...| 2015-08-31|\n",
            "|         US|   11811565| RB2Q7DLDN6TH6|B00WM0QA3M|     549298279|Fossil Women's ES...|         Watches|          5|            1|          1|   N|                Y|          Five Stars|for my wife and s...| 2015-08-31|\n",
            "|         US|   49401598|R2RHFJV0UYBK3Y|B00A4EYBR0|     844009113|INFANTRY Mens Nig...|         Watches|          1|            1|          5|   N|                N|I was about to bu...|I was about to bu...| 2015-08-31|\n",
            "|         US|   45925069|R2Z6JOQ94LFHEP|B00MAMPGGE|     263720892|G-Shock Men's Gre...|         Watches|          5|            1|          2|   N|                Y|      Perfect watch!|Watch is perfect....| 2015-08-31|\n",
            "|         US|   44751341| RX27XIIWY5JPB|B004LBPB7Q|     124278407|Heiden Quad Watch...|         Watches|          4|            0|          0|   N|                Y|Great quality and...|Great quality and...| 2015-08-31|\n",
            "|         US|    9962330|R15C7QEZT0LGZN|B00KGTVGKS|      28017857|Fossil Women's ES...|         Watches|          4|            2|          2|   N|                Y|           Satisfied|The watch was pre...| 2015-08-31|\n",
            "|         US|   16097204|R361XSS37V0NCZ|B0039UT5OU|     685450910|Casio General Men...|         Watches|          1|            0|          0|   N|                N|I do not think th...|I bought this wat...| 2015-08-31|\n",
            "|         US|   51330346| ROTNLALUAJAUB|B00MPF0XJQ|     767769082|2Tone Gold Silver...|         Watches|          3|            0|          0|   N|                Y|         Three Stars|It is a cheap wat...| 2015-08-31|\n",
            "|         US|    4201739|R2DYX7QU6BGOHR|B003P1OHHS|     648595227|Bulova Men's 98B1...|         Watches|          5|            0|          0|   N|                Y|          Five Stars|Heavier than i th...| 2015-08-31|\n",
            "|         US|   26339765| RWASY7FKI7QOT|B00R70YEOE|     457338020|Casio - G-Shock -...|         Watches|          5|            2|          3|   N|                Y|  Worth it - love it|Had it for severa...| 2015-08-31|\n",
            "|         US|    2692576|R2KKYZIN3CCL21|B000FVE3BG|     824370661|Invicta Men's 332...|         Watches|          5|            0|          0|   N|                Y|This is when diff...|This one is diffe...| 2015-08-31|\n",
            "|         US|   44713366|R22H4FGVD5O52O|B008X6JB12|     814431355|Seiko Women's SUT...|         Watches|          4|            1|          1|   N|                Y|Thewatch is attra...|The watch is attr...| 2015-08-31|\n",
            "|         US|   32778769|R11UACZERCM4ZY|B0040UOFPW|     187700878|Anne Klein Women'...|         Watches|          5|            0|          0|   N|                Y|          Five Stars|      said my wife..| 2015-08-31|\n",
            "|         US|   27258523|R1AT8NQ38UQOL6|B00UR2R5UY|     594315262|Guess U13630G1 Me...|         Watches|          5|            0|          0|   N|                Y|          Five Stars|Nice watch, on ti...| 2015-08-31|\n",
            "|         US|   42646538|R2NCZRQGIF1Q75|B00HFF57L0|     520810507|Nixon Men's Geo V...|         Watches|          4|            0|          0|   N|                Y|        Very stylish|Looks great and l...| 2015-08-31|\n",
            "+-----------+-----------+--------------+----------+--------------+--------------------+----------------+-----------+-------------+-----------+----+-----------------+--------------------+--------------------+-----------+\n",
            "only showing top 20 rows\n",
            "\n"
          ]
        }
      ]
    },
    {
      "cell_type": "code",
      "metadata": {
        "colab": {
          "base_uri": "https://localhost:8080/"
        },
        "id": "wMV_PXbdJb44",
        "outputId": "3501f1be-e502-4602-ff4f-95b3d02e3355"
      },
      "source": [
        "# Create a dataframe where the total_votes count is equal to or greater than 20, to show helpful reviews.\n",
        "helpful_votes = df.filter(\"total_votes >=  20\")\n",
        "helpful_votes.show()"
      ],
      "execution_count": 7,
      "outputs": [
        {
          "output_type": "stream",
          "name": "stdout",
          "text": [
            "+-----------+-----------+--------------+----------+--------------+--------------------+----------------+-----------+-------------+-----------+----+-----------------+--------------------+--------------------+-----------+\n",
            "|marketplace|customer_id|     review_id|product_id|product_parent|       product_title|product_category|star_rating|helpful_votes|total_votes|vine|verified_purchase|     review_headline|         review_body|review_date|\n",
            "+-----------+-----------+--------------+----------+--------------+--------------------+----------------+-----------+-------------+-----------+----+-----------------+--------------------+--------------------+-----------+\n",
            "|         US|   17728960|R14W2VCHHK5V7W|B00ZI3R5VG|     213303319|Stuhrling Origina...|         Watches|          5|           19|         20|   N|                Y|this is a good al...|As a former Rolex...| 2015-08-31|\n",
            "|         US|   20240757|R1S3T57O3OYT5S|B003DZ7VOW|     336197576|G-Shock GA100A-7A...|         Watches|          5|           19|         20|   N|                Y|          Five Stars|         Great watch| 2015-08-31|\n",
            "|         US|   15806601|R1BTWIBLYYVOV7|B00I1LM5SK|     878438426|Seiko Men's SSC22...|         Watches|          5|           30|         30|   N|                Y|Extremely Satisfied!|A beautiful timep...| 2015-08-31|\n",
            "|         US|   14870011| R6F9VY91ADPLA|B002ZLE41I|     118278818|Grand Seiko Wrist...|         Watches|          1|            8|         30|   N|                N|            NOT a GS|NOT a Grand Seiko...| 2015-08-31|\n",
            "|         US|   32751852|R3PXNV89DFIXKV|B00OAY5ZPC|     814269665|G-Shock Men's Mil...|         Watches|          5|           35|         37|   N|                Y|Sweet watch perfe...|Sweet watch perfe...| 2015-08-30|\n",
            "|         US|   36877359|R2ZF9NYVT3J7D6|B000JQJS6M|     926299553|Invicta Men's 892...|         Watches|          5|           19|         22|   N|                Y|Wow what a great ...|I bought this wat...| 2015-08-30|\n",
            "|         US|   52450678|R20NYA5V0UF9NE|B00EX1GLXM|     186312431|Daniel Wellington...|         Watches|          5|           27|         28|   N|                Y|  Best Women's Watch|I love this watch...| 2015-08-30|\n",
            "|         US|   20624774|R2X8FZRUOS8R8C|B00WUY9RGM|     609917507|Bulova Accutron I...|         Watches|          4|           25|         26|   N|                Y|A very nice reiss...|A very nice reiss...| 2015-08-29|\n",
            "|         US|     225889|R2D8IMBVX3XCLF|B00U0XC1T0|      31905742|Akribos XXIV Men'...|         Watches|          1|           14|         20|   N|                Y|I bought in 30 ju...|I bought in 30 ju...| 2015-08-29|\n",
            "|         US|   36602051|R25UD9TA63L3Q8|B00YTYH16Y|     251372732|Timex Expedition ...|         Watches|          5|           25|         27|   N|                Y|Great watch for s...|I work in an a me...| 2015-08-28|\n",
            "|         US|   47047549|R2RB1HML8N712P|B00J5QR062|     220979928|Casio Men's GA-11...|         Watches|          5|           26|         28|   N|                Y| My First G-SHOCK...|I'll be honest I ...| 2015-08-28|\n",
            "|         US|    2546433| ROXA8XP5EI2KK|B009XGOP8A|     973820677|Michael Kors Wome...|         Watches|          5|           48|         49|   N|                N|I love it. I woul...|This thing is gor...| 2015-08-28|\n",
            "|         US|   24173990|R149IHTGGSRGX9|B00BKQTA4A|     128852263|Daniel Wellington...|         Watches|          5|           19|         20|   N|                Y|          Five Stars|Great watch! My n...| 2015-08-28|\n",
            "|         US|   53096363|R1B7M0OP3UNP6O|B00V0G9OGE|     297682929|Armitron Sport Wo...|         Watches|          5|           49|         52|   Y|                N|Lots of features ...|My wife has been ...| 2015-08-27|\n",
            "|         US|   27863178|R2N92CUM7WBA1A|B013XHV4GU|     119578945|G-Shock Men's G-S...|         Watches|          5|           27|         28|   N|                Y|Big, but proporti...|This is a great c...| 2015-08-27|\n",
            "|         US|   41750372|R2TAFZNG4KHFQB|B00YTY8MQW|     967993443|Timex Men's Weeke...|         Watches|          4|           24|         24|   N|                Y|Quiet Timex Weeke...|I recently picked...| 2015-08-27|\n",
            "|         US|    2132145| RNRFACS48ZE4A|B000B55AEK|     525035983|Timex Women's Ind...|         Watches|          5|           21|         21|   N|                Y|I'm a busy colleg...|I'm a busy colleg...| 2015-08-27|\n",
            "|         US|    4160429|R2PO5QTLXJ9LHG|B00TU78EXE|     508562164|AUDEMARS PIGUET R...|         Watches|          5|           33|         46|   N|                N|Great watch and i...|Great watch. I bo...| 2015-08-27|\n",
            "|         US|   49019268|R38KDT041DRMIN|B00NIF9H3U|     998896201|Omega Men's 31130...|         Watches|          5|           19|         24|   N|                Y|Looks good on the...|Gorgeous watch wi...| 2015-08-26|\n",
            "|         US|   10220971|R2MNPDWCA42I4G|B00K92JHX0|     826514849|Fanmis Ceramic Be...|         Watches|          1|           17|         20|   N|                N|Parnis is a scam....|I bought this wat...| 2015-08-26|\n",
            "+-----------+-----------+--------------+----------+--------------+--------------------+----------------+-----------+-------------+-----------+----+-----------------+--------------------+--------------------+-----------+\n",
            "only showing top 20 rows\n",
            "\n"
          ]
        }
      ]
    },
    {
      "cell_type": "code",
      "metadata": {
        "colab": {
          "base_uri": "https://localhost:8080/"
        },
        "id": "NfENzptcJcC4",
        "outputId": "2f1b99ea-c362-4084-ceef-0ec2001355e4"
      },
      "source": [
        "# Filter the new DataFrame to retrieve all the rows where the number of helpful_votes divided by total_votes is equal to or greater than 50%.\n",
        "helpful_votes_50 = helpful_votes.filter(\"helpful_votes/total_votes >=0.5\")\n",
        "helpful_votes_50.show()"
      ],
      "execution_count": 8,
      "outputs": [
        {
          "output_type": "stream",
          "name": "stdout",
          "text": [
            "+-----------+-----------+--------------+----------+--------------+--------------------+----------------+-----------+-------------+-----------+----+-----------------+--------------------+--------------------+-----------+\n",
            "|marketplace|customer_id|     review_id|product_id|product_parent|       product_title|product_category|star_rating|helpful_votes|total_votes|vine|verified_purchase|     review_headline|         review_body|review_date|\n",
            "+-----------+-----------+--------------+----------+--------------+--------------------+----------------+-----------+-------------+-----------+----+-----------------+--------------------+--------------------+-----------+\n",
            "|         US|   17728960|R14W2VCHHK5V7W|B00ZI3R5VG|     213303319|Stuhrling Origina...|         Watches|          5|           19|         20|   N|                Y|this is a good al...|As a former Rolex...| 2015-08-31|\n",
            "|         US|   20240757|R1S3T57O3OYT5S|B003DZ7VOW|     336197576|G-Shock GA100A-7A...|         Watches|          5|           19|         20|   N|                Y|          Five Stars|         Great watch| 2015-08-31|\n",
            "|         US|   15806601|R1BTWIBLYYVOV7|B00I1LM5SK|     878438426|Seiko Men's SSC22...|         Watches|          5|           30|         30|   N|                Y|Extremely Satisfied!|A beautiful timep...| 2015-08-31|\n",
            "|         US|   32751852|R3PXNV89DFIXKV|B00OAY5ZPC|     814269665|G-Shock Men's Mil...|         Watches|          5|           35|         37|   N|                Y|Sweet watch perfe...|Sweet watch perfe...| 2015-08-30|\n",
            "|         US|   36877359|R2ZF9NYVT3J7D6|B000JQJS6M|     926299553|Invicta Men's 892...|         Watches|          5|           19|         22|   N|                Y|Wow what a great ...|I bought this wat...| 2015-08-30|\n",
            "|         US|   52450678|R20NYA5V0UF9NE|B00EX1GLXM|     186312431|Daniel Wellington...|         Watches|          5|           27|         28|   N|                Y|  Best Women's Watch|I love this watch...| 2015-08-30|\n",
            "|         US|   20624774|R2X8FZRUOS8R8C|B00WUY9RGM|     609917507|Bulova Accutron I...|         Watches|          4|           25|         26|   N|                Y|A very nice reiss...|A very nice reiss...| 2015-08-29|\n",
            "|         US|     225889|R2D8IMBVX3XCLF|B00U0XC1T0|      31905742|Akribos XXIV Men'...|         Watches|          1|           14|         20|   N|                Y|I bought in 30 ju...|I bought in 30 ju...| 2015-08-29|\n",
            "|         US|   36602051|R25UD9TA63L3Q8|B00YTYH16Y|     251372732|Timex Expedition ...|         Watches|          5|           25|         27|   N|                Y|Great watch for s...|I work in an a me...| 2015-08-28|\n",
            "|         US|   47047549|R2RB1HML8N712P|B00J5QR062|     220979928|Casio Men's GA-11...|         Watches|          5|           26|         28|   N|                Y| My First G-SHOCK...|I'll be honest I ...| 2015-08-28|\n",
            "|         US|    2546433| ROXA8XP5EI2KK|B009XGOP8A|     973820677|Michael Kors Wome...|         Watches|          5|           48|         49|   N|                N|I love it. I woul...|This thing is gor...| 2015-08-28|\n",
            "|         US|   24173990|R149IHTGGSRGX9|B00BKQTA4A|     128852263|Daniel Wellington...|         Watches|          5|           19|         20|   N|                Y|          Five Stars|Great watch! My n...| 2015-08-28|\n",
            "|         US|   53096363|R1B7M0OP3UNP6O|B00V0G9OGE|     297682929|Armitron Sport Wo...|         Watches|          5|           49|         52|   Y|                N|Lots of features ...|My wife has been ...| 2015-08-27|\n",
            "|         US|   27863178|R2N92CUM7WBA1A|B013XHV4GU|     119578945|G-Shock Men's G-S...|         Watches|          5|           27|         28|   N|                Y|Big, but proporti...|This is a great c...| 2015-08-27|\n",
            "|         US|   41750372|R2TAFZNG4KHFQB|B00YTY8MQW|     967993443|Timex Men's Weeke...|         Watches|          4|           24|         24|   N|                Y|Quiet Timex Weeke...|I recently picked...| 2015-08-27|\n",
            "|         US|    2132145| RNRFACS48ZE4A|B000B55AEK|     525035983|Timex Women's Ind...|         Watches|          5|           21|         21|   N|                Y|I'm a busy colleg...|I'm a busy colleg...| 2015-08-27|\n",
            "|         US|    4160429|R2PO5QTLXJ9LHG|B00TU78EXE|     508562164|AUDEMARS PIGUET R...|         Watches|          5|           33|         46|   N|                N|Great watch and i...|Great watch. I bo...| 2015-08-27|\n",
            "|         US|   49019268|R38KDT041DRMIN|B00NIF9H3U|     998896201|Omega Men's 31130...|         Watches|          5|           19|         24|   N|                Y|Looks good on the...|Gorgeous watch wi...| 2015-08-26|\n",
            "|         US|   10220971|R2MNPDWCA42I4G|B00K92JHX0|     826514849|Fanmis Ceramic Be...|         Watches|          1|           17|         20|   N|                N|Parnis is a scam....|I bought this wat...| 2015-08-26|\n",
            "|         US|   15374156|R3F3KMKY26K620|B006ZMHUP0|     899975826|Seiko QXA520KLH W...|         Watches|          4|           25|         26|   N|                Y|          Nice clock|This is a very pr...| 2015-08-26|\n",
            "+-----------+-----------+--------------+----------+--------------+--------------------+----------------+-----------+-------------+-----------+----+-----------------+--------------------+--------------------+-----------+\n",
            "only showing top 20 rows\n",
            "\n"
          ]
        }
      ]
    },
    {
      "cell_type": "code",
      "metadata": {
        "colab": {
          "base_uri": "https://localhost:8080/"
        },
        "id": "1_sOCTvnJcNY",
        "outputId": "1f2442f5-fda5-431d-b67f-5f63d734fa5d"
      },
      "source": [
        "# Create a new DataFrame that retrieves all the rows where a review was written as part of the Vine program (paid)\n",
        "vine_df_Y = helpful_votes_50.filter(\"vine == 'Y'\")\n",
        "vine_df_Y.show()"
      ],
      "execution_count": 10,
      "outputs": [
        {
          "output_type": "stream",
          "name": "stdout",
          "text": [
            "+-----------+-----------+--------------+----------+--------------+--------------------+----------------+-----------+-------------+-----------+----+-----------------+--------------------+--------------------+-----------+\n",
            "|marketplace|customer_id|     review_id|product_id|product_parent|       product_title|product_category|star_rating|helpful_votes|total_votes|vine|verified_purchase|     review_headline|         review_body|review_date|\n",
            "+-----------+-----------+--------------+----------+--------------+--------------------+----------------+-----------+-------------+-----------+----+-----------------+--------------------+--------------------+-----------+\n",
            "|         US|   53096363|R1B7M0OP3UNP6O|B00V0G9OGE|     297682929|Armitron Sport Wo...|         Watches|          5|           49|         52|   Y|                N|Lots of features ...|My wife has been ...| 2015-08-27|\n",
            "|         US|   51394788|R2UUV4UGGYMQG8|B00M1Y5AIU|     368146384|Boulevard ClickTi...|         Watches|          5|           34|         39|   Y|                N|Another superb up...|I'm shocked that ...| 2014-11-10|\n",
            "|         US|   43796190| R9K0LZV2BK9YY|B008AXURAW|     328723789|Fossil FS4735 Gra...|         Watches|          4|           37|         39|   Y|                N|A very handsome w...|There are plenty ...| 2014-07-29|\n",
            "|         US|   52460215|R2OVFLNEUEGTJM|B00IOOB1RU|     394792547|Casio Men's STB-1...|         Watches|          3|           18|         25|   Y|                N|   Nice But Overkill|Casio makes good ...| 2014-05-22|\n",
            "|         US|   20981134| RBE09ELJ77LQ0|B00ATUKPRE|     250661797|Invicta Men's 143...|         Watches|          5|           44|         45|   Y|                N|A large yet class...|[[VIDEOID:mo31IMO...| 2013-06-18|\n",
            "|         US|   52584172|R3867T8AIJJHM6|B00ATUKPRE|     250661797|Invicta Men's 143...|         Watches|          5|           26|         27|   Y|                N|Large faced flash...|On the internet w...| 2013-06-17|\n",
            "|         US|   49214860|R1FNVUXPU63WOZ|B00B2GZI1M|     539196805|Stuhrling Origina...|         Watches|          4|           43|         48|   Y|                N|Beautiful and Fun...|Shopping for watc...| 2013-06-05|\n",
            "|         US|   39036425|R25XGG2G12SE1Z|B00B2GZJXE|     777697728|Stuhrling Origina...|         Watches|          4|           20|         23|   Y|                N|Packaging is grea...|There are plus it...| 2013-05-23|\n",
            "|         US|   42247018| R3JKU4HRDFZDH|B00ATUKQG4|     479826550|Invicta Men's 143...|         Watches|          4|           27|         30|   Y|                N|An absolutely bea...|The Invicta 14331...| 2013-05-23|\n",
            "|         US|   52775525|R2PQYOCJXRB1BF|B00B2GZJXE|     777697728|Stuhrling Origina...|         Watches|          5|           26|         28|   Y|                N|Beautifully Class...|I love this watch...| 2013-05-23|\n",
            "|         US|   51731441|R1JBQ8UBLA8N4X|B00791R1MI|     961043582|Casio Men's Solar...|         Watches|          4|          349|        370|   Y|                N|Great Idea But Ha...|The Casio Men's A...| 2013-05-09|\n",
            "|         US|   50820654|R2I01ZYMO0GYP1|B00791R1MI|     961043582|Casio Men's Solar...|         Watches|          4|          107|        121|   Y|                N|Good Quality Watc...|This Casio Solar ...| 2013-05-03|\n",
            "|         US|   39036425|R297GF8EF7AXPO|B00AELHD0U|     430738829|Casio Men's Ana-D...|         Watches|          2|           22|         30|   Y|                N|A watch you can u...|Taking this watch...| 2013-04-27|\n",
            "|         US|   52486291|R2OFG89WKPLHGU|B00AELHD0U|     430738829|Casio Men's Ana-D...|         Watches|          5|           54|         60|   Y|                N|The Perfect Post-...|After the apocaly...| 2013-04-25|\n",
            "|         US|   52755608|R13PI8O4697CEV|B00791R1MI|     961043582|Casio Men's Solar...|         Watches|          4|          135|        144|   Y|                N|Fun sporty solar ...|Casio Men's AQ-S8...| 2013-04-24|\n",
            "|         US|   51118641|R223MX62JYWUOY|B00ATULBA4|     487220800|Invicta Women's 1...|         Watches|          4|           20|         21|   Y|                N|It's not your Gra...|If you are consid...| 2013-04-11|\n",
            "|         US|   34571698| RTSXZ0HZF623M|B00ATUL9TW|     364380215|Invicta Women's 1...|         Watches|          3|           13|         22|   Y|                N|Strong enough for...|I know Invicta pr...| 2013-04-06|\n",
            "|         US|   42043140|R1OB4GCKEYGV9I|B0096IQZ8S|     398873095|Stuhrling Origina...|         Watches|          4|           61|         90|   Y|                N|Everything About ...|Immediately upon ...| 2013-01-20|\n",
            "|         US|   50658053|R1YBNRRUD5WCG4|B0089K8CE4|     613213413|Stuhrling Origina...|         Watches|          5|           15|         20|   Y|                N|          Impressive|I do love watches...| 2012-11-03|\n",
            "|         US|   48002256|R3L4Z6NK2Z4OV5|B0089K8CHG|     613213413|Stuhrling Origina...|         Watches|          2|           24|         33|   Y|                N|    Hard to see time|Stuhrling is a ma...| 2012-10-27|\n",
            "+-----------+-----------+--------------+----------+--------------+--------------------+----------------+-----------+-------------+-----------+----+-----------------+--------------------+--------------------+-----------+\n",
            "only showing top 20 rows\n",
            "\n"
          ]
        }
      ]
    },
    {
      "cell_type": "code",
      "metadata": {
        "colab": {
          "base_uri": "https://localhost:8080/"
        },
        "id": "X9eNBYyZJcWo",
        "outputId": "29e400fe-ef23-4eae-e9ec-dd072677a9ce"
      },
      "source": [
        "# Retrieve all the rows where the review was not part of the Vine program (unpaid)\n",
        "vine_df_N = helpful_votes_50.filter(\"vine == 'N'\")\n",
        "vine_df_N.show()"
      ],
      "execution_count": 11,
      "outputs": [
        {
          "output_type": "stream",
          "name": "stdout",
          "text": [
            "+-----------+-----------+--------------+----------+--------------+--------------------+----------------+-----------+-------------+-----------+----+-----------------+--------------------+--------------------+-----------+\n",
            "|marketplace|customer_id|     review_id|product_id|product_parent|       product_title|product_category|star_rating|helpful_votes|total_votes|vine|verified_purchase|     review_headline|         review_body|review_date|\n",
            "+-----------+-----------+--------------+----------+--------------+--------------------+----------------+-----------+-------------+-----------+----+-----------------+--------------------+--------------------+-----------+\n",
            "|         US|   17728960|R14W2VCHHK5V7W|B00ZI3R5VG|     213303319|Stuhrling Origina...|         Watches|          5|           19|         20|   N|                Y|this is a good al...|As a former Rolex...| 2015-08-31|\n",
            "|         US|   20240757|R1S3T57O3OYT5S|B003DZ7VOW|     336197576|G-Shock GA100A-7A...|         Watches|          5|           19|         20|   N|                Y|          Five Stars|         Great watch| 2015-08-31|\n",
            "|         US|   15806601|R1BTWIBLYYVOV7|B00I1LM5SK|     878438426|Seiko Men's SSC22...|         Watches|          5|           30|         30|   N|                Y|Extremely Satisfied!|A beautiful timep...| 2015-08-31|\n",
            "|         US|   32751852|R3PXNV89DFIXKV|B00OAY5ZPC|     814269665|G-Shock Men's Mil...|         Watches|          5|           35|         37|   N|                Y|Sweet watch perfe...|Sweet watch perfe...| 2015-08-30|\n",
            "|         US|   36877359|R2ZF9NYVT3J7D6|B000JQJS6M|     926299553|Invicta Men's 892...|         Watches|          5|           19|         22|   N|                Y|Wow what a great ...|I bought this wat...| 2015-08-30|\n",
            "|         US|   52450678|R20NYA5V0UF9NE|B00EX1GLXM|     186312431|Daniel Wellington...|         Watches|          5|           27|         28|   N|                Y|  Best Women's Watch|I love this watch...| 2015-08-30|\n",
            "|         US|   20624774|R2X8FZRUOS8R8C|B00WUY9RGM|     609917507|Bulova Accutron I...|         Watches|          4|           25|         26|   N|                Y|A very nice reiss...|A very nice reiss...| 2015-08-29|\n",
            "|         US|     225889|R2D8IMBVX3XCLF|B00U0XC1T0|      31905742|Akribos XXIV Men'...|         Watches|          1|           14|         20|   N|                Y|I bought in 30 ju...|I bought in 30 ju...| 2015-08-29|\n",
            "|         US|   36602051|R25UD9TA63L3Q8|B00YTYH16Y|     251372732|Timex Expedition ...|         Watches|          5|           25|         27|   N|                Y|Great watch for s...|I work in an a me...| 2015-08-28|\n",
            "|         US|   47047549|R2RB1HML8N712P|B00J5QR062|     220979928|Casio Men's GA-11...|         Watches|          5|           26|         28|   N|                Y| My First G-SHOCK...|I'll be honest I ...| 2015-08-28|\n",
            "|         US|    2546433| ROXA8XP5EI2KK|B009XGOP8A|     973820677|Michael Kors Wome...|         Watches|          5|           48|         49|   N|                N|I love it. I woul...|This thing is gor...| 2015-08-28|\n",
            "|         US|   24173990|R149IHTGGSRGX9|B00BKQTA4A|     128852263|Daniel Wellington...|         Watches|          5|           19|         20|   N|                Y|          Five Stars|Great watch! My n...| 2015-08-28|\n",
            "|         US|   27863178|R2N92CUM7WBA1A|B013XHV4GU|     119578945|G-Shock Men's G-S...|         Watches|          5|           27|         28|   N|                Y|Big, but proporti...|This is a great c...| 2015-08-27|\n",
            "|         US|   41750372|R2TAFZNG4KHFQB|B00YTY8MQW|     967993443|Timex Men's Weeke...|         Watches|          4|           24|         24|   N|                Y|Quiet Timex Weeke...|I recently picked...| 2015-08-27|\n",
            "|         US|    2132145| RNRFACS48ZE4A|B000B55AEK|     525035983|Timex Women's Ind...|         Watches|          5|           21|         21|   N|                Y|I'm a busy colleg...|I'm a busy colleg...| 2015-08-27|\n",
            "|         US|    4160429|R2PO5QTLXJ9LHG|B00TU78EXE|     508562164|AUDEMARS PIGUET R...|         Watches|          5|           33|         46|   N|                N|Great watch and i...|Great watch. I bo...| 2015-08-27|\n",
            "|         US|   49019268|R38KDT041DRMIN|B00NIF9H3U|     998896201|Omega Men's 31130...|         Watches|          5|           19|         24|   N|                Y|Looks good on the...|Gorgeous watch wi...| 2015-08-26|\n",
            "|         US|   10220971|R2MNPDWCA42I4G|B00K92JHX0|     826514849|Fanmis Ceramic Be...|         Watches|          1|           17|         20|   N|                N|Parnis is a scam....|I bought this wat...| 2015-08-26|\n",
            "|         US|   15374156|R3F3KMKY26K620|B006ZMHUP0|     899975826|Seiko QXA520KLH W...|         Watches|          4|           25|         26|   N|                Y|          Nice clock|This is a very pr...| 2015-08-26|\n",
            "|         US|    4121241|R2PU32HT6X9DOM|B012UTRAFG|     573799489|OhFlash 20mm [Dar...|         Watches|          5|           23|         24|   N|                Y|         Great strap|This leather stra...| 2015-08-24|\n",
            "+-----------+-----------+--------------+----------+--------------+--------------------+----------------+-----------+-------------+-----------+----+-----------------+--------------------+--------------------+-----------+\n",
            "only showing top 20 rows\n",
            "\n"
          ]
        }
      ]
    },
    {
      "cell_type": "code",
      "metadata": {
        "colab": {
          "base_uri": "https://localhost:8080/"
        },
        "id": "g6PqtptWJcfY",
        "outputId": "44b083d7-beb1-44a8-ad3d-e10c8a4dac15"
      },
      "source": [
        "# 5 star reviews for Y\n",
        "five_star_Y_reviews = vine_df_Y.filter(\"star_rating == 5\")\n",
        "five_star_Y_reviews.show()"
      ],
      "execution_count": 12,
      "outputs": [
        {
          "output_type": "stream",
          "name": "stdout",
          "text": [
            "+-----------+-----------+--------------+----------+--------------+--------------------+----------------+-----------+-------------+-----------+----+-----------------+--------------------+--------------------+-----------+\n",
            "|marketplace|customer_id|     review_id|product_id|product_parent|       product_title|product_category|star_rating|helpful_votes|total_votes|vine|verified_purchase|     review_headline|         review_body|review_date|\n",
            "+-----------+-----------+--------------+----------+--------------+--------------------+----------------+-----------+-------------+-----------+----+-----------------+--------------------+--------------------+-----------+\n",
            "|         US|   53096363|R1B7M0OP3UNP6O|B00V0G9OGE|     297682929|Armitron Sport Wo...|         Watches|          5|           49|         52|   Y|                N|Lots of features ...|My wife has been ...| 2015-08-27|\n",
            "|         US|   51394788|R2UUV4UGGYMQG8|B00M1Y5AIU|     368146384|Boulevard ClickTi...|         Watches|          5|           34|         39|   Y|                N|Another superb up...|I'm shocked that ...| 2014-11-10|\n",
            "|         US|   20981134| RBE09ELJ77LQ0|B00ATUKPRE|     250661797|Invicta Men's 143...|         Watches|          5|           44|         45|   Y|                N|A large yet class...|[[VIDEOID:mo31IMO...| 2013-06-18|\n",
            "|         US|   52584172|R3867T8AIJJHM6|B00ATUKPRE|     250661797|Invicta Men's 143...|         Watches|          5|           26|         27|   Y|                N|Large faced flash...|On the internet w...| 2013-06-17|\n",
            "|         US|   52775525|R2PQYOCJXRB1BF|B00B2GZJXE|     777697728|Stuhrling Origina...|         Watches|          5|           26|         28|   Y|                N|Beautifully Class...|I love this watch...| 2013-05-23|\n",
            "|         US|   52486291|R2OFG89WKPLHGU|B00AELHD0U|     430738829|Casio Men's Ana-D...|         Watches|          5|           54|         60|   Y|                N|The Perfect Post-...|After the apocaly...| 2013-04-25|\n",
            "|         US|   50658053|R1YBNRRUD5WCG4|B0089K8CE4|     613213413|Stuhrling Origina...|         Watches|          5|           15|         20|   Y|                N|          Impressive|I do love watches...| 2012-11-03|\n",
            "|         US|   41467824|R33Y1P0VTKF46V|B007EHOAS0|       7612846|Stuhrling Origina...|         Watches|          5|           18|         22|   Y|                N|Exquisite, Strong...|This is my first ...| 2012-07-25|\n",
            "|         US|   24876781|R2VUWQQBXC9MW9|B005FMZX9Q|     131697264|Invicta Men's 151...|         Watches|          5|           47|         51|   Y|                N|There is somethin...|Ok, so let me tel...| 2012-03-18|\n",
            "|         US|   52628840|R2PGKWCC0DJNO4|B005FMZZ9O|      56685511|Invicta Men's 151...|         Watches|          5|           23|         24|   Y|                N|            Oh My...|The worst thing a...| 2012-01-04|\n",
            "|         US|   22429746|R1VPI6UTL1K31V|B005FMZWD8|     366126784|Invicta Men's 151...|         Watches|          5|           27|         29|   Y|                N|Just beautiful, l...|[[VIDEOID:2b979c9...| 2011-12-04|\n",
            "|         US|   43238024| RMEMUGWUX63KU|B001P80F1U|     849924669|Invicta Women's 5...|         Watches|          5|           34|         36|   Y|                N|Attractive and ve...|My wife was a lit...| 2011-11-26|\n",
            "|         US|   40661621|R3TZBND29248V0|B00542NE8E|     332373779|Invicta Women's 1...|         Watches|          5|           66|         71|   Y|                N|Light weight, gro...|I'm not a watch p...| 2011-08-22|\n",
            "|         US|   17783783| R5G8T9UNLDU5A|B004MSU88K|     554562801|Invicta Women's 6...|         Watches|          5|           44|         44|   Y|                N|Not Just for Divers!|You don't have to...| 2011-07-04|\n",
            "|         US|   28819407|R33HPSRJ5K3RHP|B004MSU88K|     554562801|Invicta Women's 6...|         Watches|          5|           19|         22|   Y|                N|  pros outweigh cons|First, I'd just l...| 2011-06-20|\n",
            "+-----------+-----------+--------------+----------+--------------+--------------------+----------------+-----------+-------------+-----------+----+-----------------+--------------------+--------------------+-----------+\n",
            "\n"
          ]
        }
      ]
    },
    {
      "cell_type": "code",
      "metadata": {
        "colab": {
          "base_uri": "https://localhost:8080/"
        },
        "id": "IQSDDgq7Lxgp",
        "outputId": "486188fa-bd4b-43d2-8aa7-be0caa329388"
      },
      "source": [
        "# 5 star reviews for N\n",
        "five_star_N_reviews = vine_df_N.filter(\"star_rating == 5\")\n",
        "five_star_N_reviews.show()"
      ],
      "execution_count": 13,
      "outputs": [
        {
          "output_type": "stream",
          "name": "stdout",
          "text": [
            "+-----------+-----------+--------------+----------+--------------+--------------------+----------------+-----------+-------------+-----------+----+-----------------+--------------------+--------------------+-----------+\n",
            "|marketplace|customer_id|     review_id|product_id|product_parent|       product_title|product_category|star_rating|helpful_votes|total_votes|vine|verified_purchase|     review_headline|         review_body|review_date|\n",
            "+-----------+-----------+--------------+----------+--------------+--------------------+----------------+-----------+-------------+-----------+----+-----------------+--------------------+--------------------+-----------+\n",
            "|         US|   17728960|R14W2VCHHK5V7W|B00ZI3R5VG|     213303319|Stuhrling Origina...|         Watches|          5|           19|         20|   N|                Y|this is a good al...|As a former Rolex...| 2015-08-31|\n",
            "|         US|   20240757|R1S3T57O3OYT5S|B003DZ7VOW|     336197576|G-Shock GA100A-7A...|         Watches|          5|           19|         20|   N|                Y|          Five Stars|         Great watch| 2015-08-31|\n",
            "|         US|   15806601|R1BTWIBLYYVOV7|B00I1LM5SK|     878438426|Seiko Men's SSC22...|         Watches|          5|           30|         30|   N|                Y|Extremely Satisfied!|A beautiful timep...| 2015-08-31|\n",
            "|         US|   32751852|R3PXNV89DFIXKV|B00OAY5ZPC|     814269665|G-Shock Men's Mil...|         Watches|          5|           35|         37|   N|                Y|Sweet watch perfe...|Sweet watch perfe...| 2015-08-30|\n",
            "|         US|   36877359|R2ZF9NYVT3J7D6|B000JQJS6M|     926299553|Invicta Men's 892...|         Watches|          5|           19|         22|   N|                Y|Wow what a great ...|I bought this wat...| 2015-08-30|\n",
            "|         US|   52450678|R20NYA5V0UF9NE|B00EX1GLXM|     186312431|Daniel Wellington...|         Watches|          5|           27|         28|   N|                Y|  Best Women's Watch|I love this watch...| 2015-08-30|\n",
            "|         US|   36602051|R25UD9TA63L3Q8|B00YTYH16Y|     251372732|Timex Expedition ...|         Watches|          5|           25|         27|   N|                Y|Great watch for s...|I work in an a me...| 2015-08-28|\n",
            "|         US|   47047549|R2RB1HML8N712P|B00J5QR062|     220979928|Casio Men's GA-11...|         Watches|          5|           26|         28|   N|                Y| My First G-SHOCK...|I'll be honest I ...| 2015-08-28|\n",
            "|         US|    2546433| ROXA8XP5EI2KK|B009XGOP8A|     973820677|Michael Kors Wome...|         Watches|          5|           48|         49|   N|                N|I love it. I woul...|This thing is gor...| 2015-08-28|\n",
            "|         US|   24173990|R149IHTGGSRGX9|B00BKQTA4A|     128852263|Daniel Wellington...|         Watches|          5|           19|         20|   N|                Y|          Five Stars|Great watch! My n...| 2015-08-28|\n",
            "|         US|   27863178|R2N92CUM7WBA1A|B013XHV4GU|     119578945|G-Shock Men's G-S...|         Watches|          5|           27|         28|   N|                Y|Big, but proporti...|This is a great c...| 2015-08-27|\n",
            "|         US|    2132145| RNRFACS48ZE4A|B000B55AEK|     525035983|Timex Women's Ind...|         Watches|          5|           21|         21|   N|                Y|I'm a busy colleg...|I'm a busy colleg...| 2015-08-27|\n",
            "|         US|    4160429|R2PO5QTLXJ9LHG|B00TU78EXE|     508562164|AUDEMARS PIGUET R...|         Watches|          5|           33|         46|   N|                N|Great watch and i...|Great watch. I bo...| 2015-08-27|\n",
            "|         US|   49019268|R38KDT041DRMIN|B00NIF9H3U|     998896201|Omega Men's 31130...|         Watches|          5|           19|         24|   N|                Y|Looks good on the...|Gorgeous watch wi...| 2015-08-26|\n",
            "|         US|    4121241|R2PU32HT6X9DOM|B012UTRAFG|     573799489|OhFlash 20mm [Dar...|         Watches|          5|           23|         24|   N|                Y|         Great strap|This leather stra...| 2015-08-24|\n",
            "|         US|   11531731|R1E96GHLGQ5H9D|B00SCSYWME|     116143630|Nine West Pink Te...|         Watches|          5|           22|         22|   N|                Y|This watch and I ...|I got this watch ...| 2015-08-24|\n",
            "|         US|   36228302|R33BKAVFS3HJ97|B00KNK7VKO|     450239080|Diesel Men's DZ73...|         Watches|          5|           22|         23|   N|                N|Love this watch s...|Love this watch s...| 2015-08-24|\n",
            "|         US|   46691004| R3BFHNMC7PBKS|B000JQJS6M|     926299553|Invicta Men's 892...|         Watches|          5|           26|         28|   N|                Y|        Just Buy It!|I am very pleased...| 2015-08-23|\n",
            "|         US|   48220445|R3G6S19I8AUY52|B00VIP42TQ|     703426012|MVMT Watches Silv...|         Watches|          5|           33|         36|   N|                Y|Awesomewatch. Was...|Awesome watch. Wa...| 2015-08-23|\n",
            "|         US|   21931360|R3DRNQOUII2XD0|B00170IF9U|     901097661|Seiko Prospex Mar...|         Watches|          5|           40|         41|   N|                Y|  Worth every penny!|Superb watch, in ...| 2015-08-22|\n",
            "+-----------+-----------+--------------+----------+--------------+--------------------+----------------+-----------+-------------+-----------+----+-----------------+--------------------+--------------------+-----------+\n",
            "only showing top 20 rows\n",
            "\n"
          ]
        }
      ]
    },
    {
      "cell_type": "code",
      "metadata": {
        "colab": {
          "base_uri": "https://localhost:8080/"
        },
        "id": "vESBGZXuLxro",
        "outputId": "81410b73-fce6-4052-e157-6f25323689e7"
      },
      "source": [
        "# Reviews less than 5 star reviews for Y\n",
        "vine_df_Y_less_5 = vine_df_Y.filter(\"star_rating != 5\")\n",
        "vine_df_Y_less_5.show()"
      ],
      "execution_count": 14,
      "outputs": [
        {
          "output_type": "stream",
          "name": "stdout",
          "text": [
            "+-----------+-----------+--------------+----------+--------------+--------------------+----------------+-----------+-------------+-----------+----+-----------------+--------------------+--------------------+-----------+\n",
            "|marketplace|customer_id|     review_id|product_id|product_parent|       product_title|product_category|star_rating|helpful_votes|total_votes|vine|verified_purchase|     review_headline|         review_body|review_date|\n",
            "+-----------+-----------+--------------+----------+--------------+--------------------+----------------+-----------+-------------+-----------+----+-----------------+--------------------+--------------------+-----------+\n",
            "|         US|   43796190| R9K0LZV2BK9YY|B008AXURAW|     328723789|Fossil FS4735 Gra...|         Watches|          4|           37|         39|   Y|                N|A very handsome w...|There are plenty ...| 2014-07-29|\n",
            "|         US|   52460215|R2OVFLNEUEGTJM|B00IOOB1RU|     394792547|Casio Men's STB-1...|         Watches|          3|           18|         25|   Y|                N|   Nice But Overkill|Casio makes good ...| 2014-05-22|\n",
            "|         US|   49214860|R1FNVUXPU63WOZ|B00B2GZI1M|     539196805|Stuhrling Origina...|         Watches|          4|           43|         48|   Y|                N|Beautiful and Fun...|Shopping for watc...| 2013-06-05|\n",
            "|         US|   39036425|R25XGG2G12SE1Z|B00B2GZJXE|     777697728|Stuhrling Origina...|         Watches|          4|           20|         23|   Y|                N|Packaging is grea...|There are plus it...| 2013-05-23|\n",
            "|         US|   42247018| R3JKU4HRDFZDH|B00ATUKQG4|     479826550|Invicta Men's 143...|         Watches|          4|           27|         30|   Y|                N|An absolutely bea...|The Invicta 14331...| 2013-05-23|\n",
            "|         US|   51731441|R1JBQ8UBLA8N4X|B00791R1MI|     961043582|Casio Men's Solar...|         Watches|          4|          349|        370|   Y|                N|Great Idea But Ha...|The Casio Men's A...| 2013-05-09|\n",
            "|         US|   50820654|R2I01ZYMO0GYP1|B00791R1MI|     961043582|Casio Men's Solar...|         Watches|          4|          107|        121|   Y|                N|Good Quality Watc...|This Casio Solar ...| 2013-05-03|\n",
            "|         US|   39036425|R297GF8EF7AXPO|B00AELHD0U|     430738829|Casio Men's Ana-D...|         Watches|          2|           22|         30|   Y|                N|A watch you can u...|Taking this watch...| 2013-04-27|\n",
            "|         US|   52755608|R13PI8O4697CEV|B00791R1MI|     961043582|Casio Men's Solar...|         Watches|          4|          135|        144|   Y|                N|Fun sporty solar ...|Casio Men's AQ-S8...| 2013-04-24|\n",
            "|         US|   51118641|R223MX62JYWUOY|B00ATULBA4|     487220800|Invicta Women's 1...|         Watches|          4|           20|         21|   Y|                N|It's not your Gra...|If you are consid...| 2013-04-11|\n",
            "|         US|   34571698| RTSXZ0HZF623M|B00ATUL9TW|     364380215|Invicta Women's 1...|         Watches|          3|           13|         22|   Y|                N|Strong enough for...|I know Invicta pr...| 2013-04-06|\n",
            "|         US|   42043140|R1OB4GCKEYGV9I|B0096IQZ8S|     398873095|Stuhrling Origina...|         Watches|          4|           61|         90|   Y|                N|Everything About ...|Immediately upon ...| 2013-01-20|\n",
            "|         US|   48002256|R3L4Z6NK2Z4OV5|B0089K8CHG|     613213413|Stuhrling Origina...|         Watches|          2|           24|         33|   Y|                N|    Hard to see time|Stuhrling is a ma...| 2012-10-27|\n",
            "|         US|   52825479|R3LRMV7GANS3MX|B0089K8CE4|     613213413|Stuhrling Origina...|         Watches|          3|           40|         50|   Y|                N|Decent quality wa...|This Stuhrling wa...| 2012-10-25|\n",
            "|         US|   43957161|R2I8W8DX6YIDVK|B007EHOAPI|     954199097|Stuhrling Origina...|         Watches|          3|           22|         26|   Y|                N|A mid-range watch...|Reviewer Disclaim...| 2012-07-27|\n",
            "|         US|   51865210|R2B8V45UKGS96Q|B005FN11HS|     275201036|Invicta Men's 177...|         Watches|          4|           25|         26|   Y|                N|Solid Watch @ Dec...|I am someone who ...| 2012-01-02|\n",
            "|         US|   51051843|R1VTSAJEQNFBJE|B005FMZX9Q|     131697264|Invicta Men's 151...|         Watches|          4|           23|         29|   Y|                N|I gotta get me so...|My first impressi...| 2011-12-21|\n",
            "|         US|   50725579|R3HDDNR7XJ5PG6|B005FN17H2|     258047852|Invicta Men's 190...|         Watches|          4|           29|         31|   Y|                N|Inexpensive rugge...|I own several Inv...| 2011-12-16|\n",
            "|         US|   23682368|R1GI7VUS1L7NWF|B005FN11HS|     275201036|Invicta Men's 177...|         Watches|          4|           17|         22|   Y|                N|bold and solid me...|I received this w...| 2011-12-15|\n",
            "|         US|   53074912|R2MEXGFT2R9U1D|B005FMZVLQ|     978042790|Invicta Men's 151...|         Watches|          4|           32|         36|   Y|                N|Typical Invicta, ...|First, these big ...| 2011-12-11|\n",
            "+-----------+-----------+--------------+----------+--------------+--------------------+----------------+-----------+-------------+-----------+----+-----------------+--------------------+--------------------+-----------+\n",
            "only showing top 20 rows\n",
            "\n"
          ]
        }
      ]
    },
    {
      "cell_type": "code",
      "metadata": {
        "colab": {
          "base_uri": "https://localhost:8080/"
        },
        "id": "wDYsYkTyLx0o",
        "outputId": "acec1fa4-5976-4232-843b-352dc99d705c"
      },
      "source": [
        "# Reviews less than 5 star reviews for N\n",
        "vine_df_N_less_5 = vine_df_N.filter(\"star_rating != 5\")\n",
        "vine_df_N_less_5.show()"
      ],
      "execution_count": 15,
      "outputs": [
        {
          "output_type": "stream",
          "name": "stdout",
          "text": [
            "+-----------+-----------+--------------+----------+--------------+--------------------+----------------+-----------+-------------+-----------+----+-----------------+--------------------+--------------------+-----------+\n",
            "|marketplace|customer_id|     review_id|product_id|product_parent|       product_title|product_category|star_rating|helpful_votes|total_votes|vine|verified_purchase|     review_headline|         review_body|review_date|\n",
            "+-----------+-----------+--------------+----------+--------------+--------------------+----------------+-----------+-------------+-----------+----+-----------------+--------------------+--------------------+-----------+\n",
            "|         US|   20624774|R2X8FZRUOS8R8C|B00WUY9RGM|     609917507|Bulova Accutron I...|         Watches|          4|           25|         26|   N|                Y|A very nice reiss...|A very nice reiss...| 2015-08-29|\n",
            "|         US|     225889|R2D8IMBVX3XCLF|B00U0XC1T0|      31905742|Akribos XXIV Men'...|         Watches|          1|           14|         20|   N|                Y|I bought in 30 ju...|I bought in 30 ju...| 2015-08-29|\n",
            "|         US|   41750372|R2TAFZNG4KHFQB|B00YTY8MQW|     967993443|Timex Men's Weeke...|         Watches|          4|           24|         24|   N|                Y|Quiet Timex Weeke...|I recently picked...| 2015-08-27|\n",
            "|         US|   10220971|R2MNPDWCA42I4G|B00K92JHX0|     826514849|Fanmis Ceramic Be...|         Watches|          1|           17|         20|   N|                N|Parnis is a scam....|I bought this wat...| 2015-08-26|\n",
            "|         US|   15374156|R3F3KMKY26K620|B006ZMHUP0|     899975826|Seiko QXA520KLH W...|         Watches|          4|           25|         26|   N|                Y|          Nice clock|This is a very pr...| 2015-08-26|\n",
            "|         US|    9443315|R32EUTQ34MNG1W|B00IAVVC4E|     302843853|MVMT Watches Whit...|         Watches|          1|           26|         32|   N|                Y|watch stopped wor...|The watch stopped...| 2015-08-24|\n",
            "|         US|   32759355| RDOUTLIOKLLR1|B00I9IH56M|     405529437|Casio Mens Classi...|         Watches|          1|           33|         37|   N|                Y| Pretty cheap watch.|Watch arrived as ...| 2015-08-24|\n",
            "|         US|   16548103|R2OVUP87N4WPZ0|B002S0NM82|     417364525|WOLF Windsor 10 P...|         Watches|          1|           14|         25|   N|                Y|            One Star|                null| 2015-08-23|\n",
            "|         US|   23350117|R3GTXBI2ZMEEVF|B00B2I15OE|     699986844|Timex Men's T2P10...|         Watches|          1|           26|         30|   N|                Y|    Poorly designed.|The watch did arr...| 2015-08-23|\n",
            "|         US|     240907|R2ELDDWS10LM09|B008PXXCC2|     996806784|Casio Women's LA6...|         Watches|          4|           26|         26|   N|                Y|     it's so tiny 😭|i felt you guys s...| 2015-08-21|\n",
            "|         US|    1560024| RGG6ZLOKF96LP|B00OAY62HM|     462809947|G-Shock GA110MB-1...|         Watches|          1|           32|         38|   N|                Y|      I FEEL CHEATED|Received another ...| 2015-08-21|\n",
            "|         US|    8934368|R36933MDOWDCRQ|B009DFA43Q|     368313718|Michael Kors Lexi...|         Watches|          1|           30|         37|   N|                Y|     DISAPPOINTED!!!|Here's the Mk8281...| 2015-08-21|\n",
            "|         US|   33201685|R2EMS1JQLS9R2K|B00PXVTLYC|     998915290|Citizen Eco-Drive...|         Watches|          4|           23|         23|   N|                Y|Dual Display - Ki...|It's big, it's th...| 2015-08-20|\n",
            "|         US|     118677| RI69KTJ4G3W5W|B012FC5I4I|     103484100|CASIO G-SHOCK MUD...|         Watches|          3|           51|         60|   N|                Y|The watch and the...|This watch would'...| 2015-08-20|\n",
            "|         US|    5370055|R2DOHUQGQG3VNN|B0006AAS5G|       1348996|Invicta Men's 921...|         Watches|          1|           93|        102|   N|                N|Poor quality, Bad...|I have been using...| 2015-08-20|\n",
            "|         US|    5363162|R26BQYKDHIVURL|B0053HDR78|     576694666|Casio F108WH Wate...|         Watches|          4|           44|         44|   N|                Y|Simple, Classic C...|I have owned appr...| 2015-08-20|\n",
            "|         US|   49877537|R2S8TIFNDTKLTT|B00KI6UMJK|     500656369|Rolex Sky Dweller...|         Watches|          4|           13|         21|   N|                N|Wow even free shi...|I thought this de...| 2015-08-16|\n",
            "|         US|   19385143|R1ZJQPTCB9VQL8|B0096IQZ8S|     398873095|Stuhrling Origina...|         Watches|          2|           21|         24|   N|                Y|Love the watch, b...|I've been very ha...| 2015-08-16|\n",
            "|         US|   26797700| RBKGYFNAEOD7F|B00ML5AGRY|     976495788|Rolex Cosmograph ...|         Watches|          1|           16|         29|   N|                N|I bought this wat...|I live in NYC and...| 2015-08-16|\n",
            "|         US|   46842833|R1G9FY5L84IAOG|B00U0XC1K4|     163412952|Akribos XXIV Men'...|         Watches|          1|           32|         34|   N|                N|Poor design & VER...|I bought two (2) ...| 2015-08-15|\n",
            "+-----------+-----------+--------------+----------+--------------+--------------------+----------------+-----------+-------------+-----------+----+-----------------+--------------------+--------------------+-----------+\n",
            "only showing top 20 rows\n",
            "\n"
          ]
        }
      ]
    },
    {
      "cell_type": "code",
      "metadata": {
        "colab": {
          "base_uri": "https://localhost:8080/"
        },
        "id": "3Div4uLHLx8I",
        "outputId": "83c1cda3-69b0-4a7c-a80d-35844ecd7d25"
      },
      "source": [
        "print(\"The total number of paid reviews are %f\" % vine_df_Y.count())\n",
        "\n",
        "print(\"The total number of unpaid reviews are %f\" % vine_df_N.count())\n",
        "\n",
        "print(\"The total number of paid 5 star reviews are %f\" % five_star_Y_reviews.count()) \n",
        "\n",
        "print(\"The total number of unpaid 5 star reviews are %f\" % five_star_N_reviews.count())  \n",
        "\n",
        "print(\"The percentage of paid 5 star reviews is %f\" % (five_star_Y_reviews.count()/vine_df_Y.count() *100), \"%\")\n",
        "\n",
        "print(\"The percentage of unpaid 5 star reviews is %f\" % (five_star_N_reviews.count()/vine_df_N.count() *100), \"%\")\n",
        "\n",
        "print(\"The percentage of paid less than 5 star reviews is %f\" % (vine_df_Y_less_5.count()/vine_df_Y.count() *100), \"%\")\n",
        "\n",
        "print(\"The percentage of unpaid less than 5 star reviews is %f\" % (vine_df_N_less_5.count()/vine_df_N.count() *100), \"%\")"
      ],
      "execution_count": 19,
      "outputs": [
        {
          "output_type": "stream",
          "name": "stdout",
          "text": [
            "The total number of paid reviews are 47.000000\n",
            "The total number of unpaid reviews are 8362.000000\n",
            "The total number of paid 5 star reviews are 15.000000\n",
            "The total number of unpaid 5 star reviews are 4332.000000\n",
            "The percentage of paid 5 star reviews is 31.914894 %\n",
            "The percentage of unpaid 5 star reviews is 51.805788 %\n",
            "The percentage of paid less than 5 star reviews is 68.085106 %\n",
            "The percentage of unpaid less than 5 star reviews is 48.194212 %\n"
          ]
        }
      ]
    },
    {
      "cell_type": "code",
      "metadata": {
        "id": "vwAlJZibLyD4"
      },
      "source": [
        ""
      ],
      "execution_count": null,
      "outputs": []
    },
    {
      "cell_type": "code",
      "metadata": {
        "id": "FwL0gwHdLyK4"
      },
      "source": [
        ""
      ],
      "execution_count": null,
      "outputs": []
    },
    {
      "cell_type": "code",
      "metadata": {
        "id": "BRUe_O8uLyS4"
      },
      "source": [
        ""
      ],
      "execution_count": null,
      "outputs": []
    },
    {
      "cell_type": "code",
      "metadata": {
        "id": "sZEDOlemLyZ4"
      },
      "source": [
        ""
      ],
      "execution_count": null,
      "outputs": []
    },
    {
      "cell_type": "code",
      "metadata": {
        "id": "5-KH7aE5LyhY"
      },
      "source": [
        ""
      ],
      "execution_count": null,
      "outputs": []
    },
    {
      "cell_type": "code",
      "metadata": {
        "id": "bIWQh77tLyoY"
      },
      "source": [
        ""
      ],
      "execution_count": null,
      "outputs": []
    },
    {
      "cell_type": "code",
      "metadata": {
        "id": "lSR-Str8LyuY"
      },
      "source": [
        ""
      ],
      "execution_count": null,
      "outputs": []
    }
  ]
}